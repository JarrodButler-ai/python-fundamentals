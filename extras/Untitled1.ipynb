{
 "cells": [
  {
   "cell_type": "code",
   "execution_count": 1,
   "id": "9e69d4f8-4ae2-4a24-8c2e-b3f666188b8b",
   "metadata": {},
   "outputs": [
    {
     "name": "stdout",
     "output_type": "stream",
     "text": [
      "Hello, Jarrod — Day 2, Step 9 is ready!\n"
     ]
    }
   ],
   "source": [
    "print(\"Hello, Jarrod — Day 2, Step 9 is ready!\")"
   ]
  },
  {
   "cell_type": "code",
   "execution_count": 2,
   "id": "c63fce94-9b53-4e75-97c8-4ca15dc031d8",
   "metadata": {},
   "outputs": [
    {
     "name": "stdin",
     "output_type": "stream",
     "text": [
      "What is your name?  Jarrod\n"
     ]
    },
    {
     "name": "stdout",
     "output_type": "stream",
     "text": [
      "Hello, Jarrod!\n"
     ]
    }
   ],
   "source": [
    "name = input(\"What is your name? \")\n",
    "print(\"Hello, \" + name + \"!\")"
   ]
  },
  {
   "cell_type": "code",
   "execution_count": 3,
   "id": "a98616cd-b759-4aae-bd58-9496be3a326c",
   "metadata": {},
   "outputs": [
    {
     "name": "stdin",
     "output_type": "stream",
     "text": [
      "What is your name?  Jarrod \n",
      "How old are you?  46\n"
     ]
    },
    {
     "name": "stdout",
     "output_type": "stream",
     "text": [
      "Hello, Jarrod !\n",
      "Next year, you will be 47 years old.\n"
     ]
    }
   ],
   "source": [
    "name = input(\"What is your name? \")\n",
    "age = input(\"How old are you? \")\n",
    "\n",
    "# Convert age from text to a number so we can add to it\n",
    "age_next_year = int(age) + 1\n",
    "\n",
    "print(\"Hello, \" + name + \"!\")\n",
    "print(\"Next year, you will be \" + str(age_next_year) + \" years old.\")"
   ]
  },
  {
   "cell_type": "code",
   "execution_count": 4,
   "id": "375a943c-40b6-4da1-8fe4-c43136c034aa",
   "metadata": {},
   "outputs": [
    {
     "name": "stdout",
     "output_type": "stream",
     "text": [
      "Welcome to the Personalized Greeter!\n"
     ]
    },
    {
     "name": "stdin",
     "output_type": "stream",
     "text": [
      "What is your name?  Jarrod \n",
      "How old are you?  46\n",
      "What city do you live in?  Huntington Beach \n"
     ]
    },
    {
     "name": "stdout",
     "output_type": "stream",
     "text": [
      "\n",
      "--- Your Greeting ---\n",
      "Hello, Jarrod  from Huntington Beach !\n",
      "Next year, you will be 47 years old.\n",
      "Have an amazing day!\n"
     ]
    }
   ],
   "source": [
    "print(\"Welcome to the Personalized Greeter!\")\n",
    "\n",
    "name = input(\"What is your name? \")\n",
    "age = int(input(\"How old are you? \"))\n",
    "city = input(\"What city do you live in? \")\n",
    "\n",
    "age_next_year = age + 1\n",
    "\n",
    "print(\"\\n--- Your Greeting ---\")\n",
    "print(f\"Hello, {name} from {city}!\")\n",
    "print(f\"Next year, you will be {age_next_year} years old.\")\n",
    "print(\"Have an amazing day!\")\n"
   ]
  },
  {
   "cell_type": "code",
   "execution_count": 5,
   "id": "37aa02e1-2144-421c-b647-609b495be263",
   "metadata": {},
   "outputs": [
    {
     "name": "stdin",
     "output_type": "stream",
     "text": [
      "What is your name?  Jarrod \n",
      "How old are you?  46\n",
      "What city do you live in?  Huntington Beach \n"
     ]
    },
    {
     "name": "stdout",
     "output_type": "stream",
     "text": [
      "\n",
      "✅ Greeting saved to greeting.txt\n"
     ]
    }
   ],
   "source": [
    "# Save the greeting to a file\n",
    "\n",
    "name = input(\"What is your name? \")\n",
    "age = int(input(\"How old are you? \"))\n",
    "city = input(\"What city do you live in? \")\n",
    "\n",
    "age_next_year = age + 1\n",
    "\n",
    "greeting = f\"Hello, {name} from {city}!\\nNext year, you will be {age_next_year} years old.\\nHave an amazing day!\"\n",
    "\n",
    "# Save to a file called greeting.txt\n",
    "with open(\"greeting.txt\", \"w\") as file:\n",
    "    file.write(greeting)\n",
    "\n",
    "print(\"\\n✅ Greeting saved to greeting.txt\")"
   ]
  },
  {
   "cell_type": "code",
   "execution_count": null,
   "id": "b991e602-9e4c-4224-84e5-6c16320cca52",
   "metadata": {},
   "outputs": [],
   "source": []
  }
 ],
 "metadata": {
  "kernelspec": {
   "display_name": "Python 3 (ipykernel)",
   "language": "python",
   "name": "python3"
  },
  "language_info": {
   "codemirror_mode": {
    "name": "ipython",
    "version": 3
   },
   "file_extension": ".py",
   "mimetype": "text/x-python",
   "name": "python",
   "nbconvert_exporter": "python",
   "pygments_lexer": "ipython3",
   "version": "3.13.6"
  }
 },
 "nbformat": 4,
 "nbformat_minor": 5
}
