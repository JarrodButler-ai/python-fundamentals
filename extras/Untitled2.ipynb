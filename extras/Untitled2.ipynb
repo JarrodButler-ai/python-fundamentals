{
 "cells": [
  {
   "cell_type": "code",
   "execution_count": 1,
   "id": "53ddca86-b715-428a-ae85-0e2427cefc1e",
   "metadata": {},
   "outputs": [
    {
     "name": "stdout",
     "output_type": "stream",
     "text": [
      "✅ Created greeting.txt\n"
     ]
    }
   ],
   "source": [
    "name = \"Jarrod\"\n",
    "age = 40\n",
    "city = \"Los Angeles\"\n",
    "\n",
    "age_next_year = age + 1\n",
    "greeting = f\"Hello, {name} from {city}!\\nNext year, you will be {age_next_year} years old.\\nHave an amazing day!\"\n",
    "\n",
    "with open(\"greeting.txt\", \"w\", encoding=\"utf-8\") as f:\n",
    "    f.write(greeting)\n",
    "\n",
    "print(\"✅ Created greeting.txt\")"
   ]
  },
  {
   "cell_type": "code",
   "execution_count": 2,
   "id": "1f56b40a-42c9-48d5-ad2b-adc41d88aecc",
   "metadata": {},
   "outputs": [
    {
     "name": "stdout",
     "output_type": "stream",
     "text": [
      "\n",
      "--- Saved Greeting ---\n",
      "Hello, Jarrod from Los Angeles!\n",
      "Next year, you will be 41 years old.\n",
      "Have an amazing day!\n"
     ]
    }
   ],
   "source": [
    "# Step 14 — Read greeting from file and display it\n",
    "try:\n",
    "    with open(\"greeting.txt\", \"r\") as file:\n",
    "        content = file.read()\n",
    "        print(\"\\n--- Saved Greeting ---\")\n",
    "        print(content)\n",
    "except FileNotFoundError:\n",
    "    print(\"No saved greeting found. Please run Step 13 first to create one.\")"
   ]
  },
  {
   "cell_type": "code",
   "execution_count": 3,
   "id": "14c10d7f-e22d-4312-81a3-f489f88ee443",
   "metadata": {},
   "outputs": [
    {
     "name": "stdin",
     "output_type": "stream",
     "text": [
      "What's your name?  Jarrod\n"
     ]
    },
    {
     "name": "stdout",
     "output_type": "stream",
     "text": [
      "✅ Created custom_greeting.txt\n"
     ]
    }
   ],
   "source": [
    "# Step 15 — Ask the user for their name and save a custom greeting\n",
    "user_name = input(\"What's your name? \")\n",
    "custom_greeting = f\"Hello, {user_name}! Welcome to Day 2 of Python learning.\"\n",
    "\n",
    "with open(\"custom_greeting.txt\", \"w\", encoding=\"utf-8\") as f:\n",
    "    f.write(custom_greeting)\n",
    "\n",
    "print(\"✅ Created custom_greeting.txt\")"
   ]
  },
  {
   "cell_type": "code",
   "execution_count": 4,
   "id": "0408e47b-6c61-4e95-a2a0-e5b1a72887a2",
   "metadata": {},
   "outputs": [
    {
     "name": "stdout",
     "output_type": "stream",
     "text": [
      "\n",
      "--- Your Custom Greeting ---\n",
      "Hello, Jarrod! Welcome to Day 2 of Python learning.\n"
     ]
    }
   ],
   "source": [
    "# Step 16 — Read and display the custom greeting\n",
    "try:\n",
    "    with open(\"custom_greeting.txt\", \"r\", encoding=\"utf-8\") as f:\n",
    "        content = f.read()\n",
    "        print(\"\\n--- Your Custom Greeting ---\")\n",
    "        print(content)\n",
    "except FileNotFoundError:\n",
    "    print(\"No custom greeting found. Please run Step 15 first.\")"
   ]
  },
  {
   "cell_type": "code",
   "execution_count": 5,
   "id": "35691494-61d2-417f-a727-b048ad9721f8",
   "metadata": {},
   "outputs": [
    {
     "name": "stdin",
     "output_type": "stream",
     "text": [
      "Enter your name:  Jarrod \n",
      "Enter your age:  47\n",
      "Enter your city:  Huntington Beach \n"
     ]
    },
    {
     "name": "stdout",
     "output_type": "stream",
     "text": [
      "\n",
      "--- Greeting ---\n",
      "Hello, Jarrod  from Huntington Beach !\n",
      "Next year, you will be 48 years old.\n",
      "Have an amazing day!\n"
     ]
    }
   ],
   "source": [
    "# Step 17 — Ask the user for details and create a greeting\n",
    "name = input(\"Enter your name: \")\n",
    "age = int(input(\"Enter your age: \"))\n",
    "city = input(\"Enter your city: \")\n",
    "\n",
    "age_next_year = age + 1\n",
    "greeting = f\"Hello, {name} from {city}!\\nNext year, you will be {age_next_year} years old.\\nHave an amazing day!\"\n",
    "\n",
    "print(\"\\n--- Greeting ---\")\n",
    "print(greeting)"
   ]
  },
  {
   "cell_type": "code",
   "execution_count": 6,
   "id": "7bad4ff8-1e6e-43b0-be8e-16ed485a6493",
   "metadata": {},
   "outputs": [
    {
     "name": "stdout",
     "output_type": "stream",
     "text": [
      "✅ Saved to custom_greeting.txt\n"
     ]
    }
   ],
   "source": [
    "# Step 18 — Save the greeting to a file\n",
    "with open(\"custom_greeting.txt\", \"w\", encoding=\"utf-8\") as f:\n",
    "    f.write(greeting)\n",
    "\n",
    "print(\"✅ Saved to custom_greeting.txt\")"
   ]
  },
  {
   "cell_type": "code",
   "execution_count": 7,
   "id": "027f264d-bbb2-4caa-a04e-34b8deee69cf",
   "metadata": {},
   "outputs": [
    {
     "name": "stdout",
     "output_type": "stream",
     "text": [
      "\n",
      "--- Saved Greeting ---\n",
      "Hello, Jarrod  from Huntington Beach !\n",
      "Next year, you will be 48 years old.\n",
      "Have an amazing day!\n"
     ]
    }
   ],
   "source": [
    "# Step 19 — Read greeting from file and display it\n",
    "try:\n",
    "    with open(\"custom_greeting.txt\", \"r\", encoding=\"utf-8\") as f:\n",
    "        content = f.read()\n",
    "        print(\"\\n--- Saved Greeting ---\")\n",
    "        print(content)\n",
    "except FileNotFoundError:\n",
    "    print(\"⚠️ No saved greeting found. Please run Step 18 first.\")"
   ]
  },
  {
   "cell_type": "code",
   "execution_count": 8,
   "id": "ca1fc24e-e6c1-4688-8a65-2f62bd208084",
   "metadata": {},
   "outputs": [
    {
     "name": "stdout",
     "output_type": "stream",
     "text": [
      "✅ File found: /Users/jarrodbutler/AI-Learning/Python-Fundamentals/custom_greeting.txt\n"
     ]
    }
   ],
   "source": [
    "import os\n",
    "\n",
    "# Step 20 — Check if file exists\n",
    "file_path = \"custom_greeting.txt\"\n",
    "if os.path.exists(file_path):\n",
    "    print(f\"✅ File found: {os.path.abspath(file_path)}\")\n",
    "else:\n",
    "    print(\"⚠️ File not found. Please run Step 18 first.\")"
   ]
  },
  {
   "cell_type": "code",
   "execution_count": 9,
   "id": "aade16ef-16f5-4b40-ae41-7db33d9ea972",
   "metadata": {},
   "outputs": [
    {
     "name": "stdout",
     "output_type": "stream",
     "text": [
      "\n",
      "--- File Contents ---\n",
      "Hello, Jarrod  from Huntington Beach !\n",
      "Next year, you will be 48 years old.\n",
      "Have an amazing day!\n"
     ]
    }
   ],
   "source": [
    "# Step 21 — Open and read the file\n",
    "try:\n",
    "    with open(\"custom_greeting.txt\", \"r\", encoding=\"utf-8\") as file:\n",
    "        content = file.read()\n",
    "        print(\"\\n--- File Contents ---\")\n",
    "        print(content)\n",
    "except FileNotFoundError:\n",
    "    print(\"⚠️ File not found. Please run Step 18 first to create it.\")"
   ]
  },
  {
   "cell_type": "code",
   "execution_count": 10,
   "id": "8e977cd8-f004-4055-8fbe-0875131650fc",
   "metadata": {},
   "outputs": [
    {
     "name": "stdout",
     "output_type": "stream",
     "text": [
      "✅ Extra message appended to custom_greeting.txt\n"
     ]
    }
   ],
   "source": [
    "# Step 22 — Append extra text to the file\n",
    "extra_message = \"\\nP.S. Keep learning Python — you’re making progress!\"\n",
    "\n",
    "with open(\"custom_greeting.txt\", \"a\", encoding=\"utf-8\") as file:\n",
    "    file.write(extra_message)\n",
    "\n",
    "print(\"✅ Extra message appended to custom_greeting.txt\")"
   ]
  },
  {
   "cell_type": "code",
   "execution_count": 11,
   "id": "278021b5-7596-47a1-8f55-f32d50832fc9",
   "metadata": {},
   "outputs": [
    {
     "name": "stdout",
     "output_type": "stream",
     "text": [
      "\n",
      "--- Updated Greeting ---\n",
      "Hello, Jarrod  from Huntington Beach !\n",
      "Next year, you will be 48 years old.\n",
      "Have an amazing day!\n",
      "P.S. Keep learning Python — you’re making progress!\n"
     ]
    }
   ],
   "source": [
    "# Step 23 — Read updated file and display\n",
    "with open(\"custom_greeting.txt\", \"r\", encoding=\"utf-8\") as file:\n",
    "    content = file.read()\n",
    "\n",
    "print(\"\\n--- Updated Greeting ---\")\n",
    "print(content)"
   ]
  },
  {
   "cell_type": "code",
   "execution_count": 12,
   "id": "3514ad92-4ada-44d7-8bc1-f3c038c73141",
   "metadata": {},
   "outputs": [
    {
     "name": "stdout",
     "output_type": "stream",
     "text": [
      "🗑️ File deleted successfully.\n"
     ]
    }
   ],
   "source": [
    "# Step 24 — Delete the file\n",
    "import os\n",
    "\n",
    "if os.path.exists(\"custom_greeting.txt\"):\n",
    "    os.remove(\"custom_greeting.txt\")\n",
    "    print(\"🗑️ File deleted successfully.\")\n",
    "else:\n",
    "    print(\"File does not exist.\")"
   ]
  },
  {
   "cell_type": "code",
   "execution_count": 13,
   "id": "840438c9-7890-43f3-bc04-4d75e596ab5d",
   "metadata": {},
   "outputs": [
    {
     "name": "stdout",
     "output_type": "stream",
     "text": [
      "File exists? False\n"
     ]
    }
   ],
   "source": [
    "# Step 25 — Confirm file deletion\n",
    "import os\n",
    "\n",
    "print(\"File exists?\", os.path.exists(\"custom_greeting.txt\"))"
   ]
  },
  {
   "cell_type": "code",
   "execution_count": null,
   "id": "77df1895-9195-4756-a35c-7a642d650f9d",
   "metadata": {},
   "outputs": [],
   "source": []
  }
 ],
 "metadata": {
  "kernelspec": {
   "display_name": "Python 3 (ipykernel)",
   "language": "python",
   "name": "python3"
  },
  "language_info": {
   "codemirror_mode": {
    "name": "ipython",
    "version": 3
   },
   "file_extension": ".py",
   "mimetype": "text/x-python",
   "name": "python",
   "nbconvert_exporter": "python",
   "pygments_lexer": "ipython3",
   "version": "3.13.6"
  }
 },
 "nbformat": 4,
 "nbformat_minor": 5
}
