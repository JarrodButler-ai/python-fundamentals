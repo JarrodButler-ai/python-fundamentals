{
 "cells": [
  {
   "cell_type": "code",
   "execution_count": 1,
   "id": "e05074c8-c7aa-4ba8-8b20-f3ebc6edd5bf",
   "metadata": {},
   "outputs": [
    {
     "name": "stdout",
     "output_type": "stream",
     "text": [
      "✅ Created greeting.txt\n"
     ]
    }
   ],
   "source": [
    "# Step 13 — Save greeting to a file\n",
    "name = \"Jarrod\"\n",
    "age = 40\n",
    "city = \"Los Angeles\"\n",
    "\n",
    "age_next_year = age + 1\n",
    "greeting = f\"Hello, {name} from {city}!\\nNext year, you will be {age_next_year} years old.\\nHave an amazing day!\"\n",
    "\n",
    "with open(\"greeting.txt\", \"w\", encoding=\"utf-8\") as f:\n",
    "    f.write(greeting)\n",
    "\n",
    "print(\"✅ Created greeting.txt\")"
   ]
  },
  {
   "cell_type": "code",
   "execution_count": 2,
   "id": "560ea45a-0aea-4067-9e98-5e8504848566",
   "metadata": {},
   "outputs": [
    {
     "name": "stdout",
     "output_type": "stream",
     "text": [
      "\n",
      "--- Saved Greeting ---\n",
      "Hello, Jarrod from Los Angeles!\n",
      "Next year, you will be 41 years old.\n",
      "Have an amazing day!\n"
     ]
    }
   ],
   "source": [
    "# Step 14 — Read greeting from file and display it\n",
    "try:\n",
    "    with open(\"greeting.txt\", \"r\") as file:\n",
    "        content = file.read()\n",
    "        print(\"\\n--- Saved Greeting ---\")\n",
    "        print(content)\n",
    "except FileNotFoundError:\n",
    "    print(\"No saved greeting found. Please run Step 13 first to create one.\")\n",
    "    "
   ]
  },
  {
   "cell_type": "code",
   "execution_count": null,
   "id": "a97b7d02-8b1f-4286-92f3-558672b31d03",
   "metadata": {},
   "outputs": [],
   "source": []
  }
 ],
 "metadata": {
  "kernelspec": {
   "display_name": "Python 3 (ipykernel)",
   "language": "python",
   "name": "python3"
  },
  "language_info": {
   "codemirror_mode": {
    "name": "ipython",
    "version": 3
   },
   "file_extension": ".py",
   "mimetype": "text/x-python",
   "name": "python",
   "nbconvert_exporter": "python",
   "pygments_lexer": "ipython3",
   "version": "3.13.6"
  }
 },
 "nbformat": 4,
 "nbformat_minor": 5
}
