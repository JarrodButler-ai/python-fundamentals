{
 "cells": [
  {
   "cell_type": "code",
   "execution_count": 1,
   "id": "fb7ee747-739b-4620-bbcd-0e8ba27fee95",
   "metadata": {},
   "outputs": [
    {
     "name": "stdout",
     "output_type": "stream",
     "text": [
      "Number: 0\n",
      "Number: 1\n",
      "Number: 2\n",
      "Number: 3\n",
      "Number: 4\n"
     ]
    }
   ],
   "source": [
    "# Example of a for loop\n",
    "for i in range(5):\n",
    "    print(\"Number:\", i)"
   ]
  },
  {
   "cell_type": "code",
   "execution_count": 3,
   "id": "1b80795b-3dbd-4754-a091-917e894328db",
   "metadata": {},
   "outputs": [
    {
     "name": "stdout",
     "output_type": "stream",
     "text": [
      "Countdown: 5\n",
      "Countdown: 4\n",
      "Countdown: 3\n",
      "Countdown: 2\n",
      "Countdown: 1\n",
      "Blast off! 🚀\n"
     ]
    }
   ],
   "source": [
    "# Countdown loop with blast off\n",
    "for i in range(5, 0, -1):\n",
    "    print(f\"Countdown: {i}\")\n",
    "\n",
    "print(\"Blast off! 🚀\")"
   ]
  },
  {
   "cell_type": "code",
   "execution_count": 4,
   "id": "0f209c42-4faf-4ca7-b1ea-4d17234bd358",
   "metadata": {},
   "outputs": [
    {
     "name": "stdout",
     "output_type": "stream",
     "text": [
      "Here are some fruits: ['apple', 'banana', 'cherry', 'date']\n"
     ]
    }
   ],
   "source": [
    "# Day 4 - Step 1: Simple List\n",
    "fruits = [\"apple\", \"banana\", \"cherry\", \"date\"]\n",
    "print(\"Here are some fruits:\", fruits)"
   ]
  },
  {
   "cell_type": "code",
   "execution_count": 5,
   "id": "0d5cc015-748d-4db7-8db0-cd5dbd9eea2f",
   "metadata": {},
   "outputs": [
    {
     "name": "stdout",
     "output_type": "stream",
     "text": [
      "First fruit: apple\n",
      "Second fruit: banana\n",
      "Last fruit: date\n"
     ]
    }
   ],
   "source": [
    "# Day 4 - Step 2: Accessing list items\n",
    "fruits = [\"apple\", \"banana\", \"cherry\", \"date\"]\n",
    "\n",
    "print(\"First fruit:\", fruits[0])   # index 0 is the first item\n",
    "print(\"Second fruit:\", fruits[1])  # index 1 is the second item\n",
    "print(\"Last fruit:\", fruits[-1])   # negative index -1 gives the last item"
   ]
  },
  {
   "cell_type": "code",
   "execution_count": 6,
   "id": "1cf07ab5-a245-4a09-bc88-7e547bc7283a",
   "metadata": {},
   "outputs": [
    {
     "name": "stdout",
     "output_type": "stream",
     "text": [
      "Updated fruits: ['apple', 'blueberry', 'banana', 'date', 'elderberry']\n"
     ]
    }
   ],
   "source": [
    "# Day 4 - Step 3: Modifying lists\n",
    "fruits = [\"apple\", \"banana\", \"cherry\", \"date\"]\n",
    "\n",
    "fruits.append(\"elderberry\")   # add item to the end\n",
    "fruits.insert(1, \"blueberry\") # insert at position 1\n",
    "fruits.remove(\"cherry\")       # remove an item\n",
    "\n",
    "print(\"Updated fruits:\", fruits)"
   ]
  },
  {
   "cell_type": "code",
   "execution_count": 7,
   "id": "45b30fc9-41e5-4f0f-8f02-87530787509a",
   "metadata": {},
   "outputs": [
    {
     "name": "stdout",
     "output_type": "stream",
     "text": [
      "['apple', 'cherry', 'banana']\n"
     ]
    }
   ],
   "source": [
    "fruits = [\"apple\", \"banana\", \"cherry\", \"banana\"]\n",
    "fruits.remove(\"banana\")\n",
    "print(fruits)"
   ]
  },
  {
   "cell_type": "code",
   "execution_count": 8,
   "id": "6a39df5a-796e-47f7-8856-10c08edefde6",
   "metadata": {},
   "outputs": [
    {
     "name": "stdout",
     "output_type": "stream",
     "text": [
      "['apple', 'cherry']\n",
      "Removed: banana\n"
     ]
    }
   ],
   "source": [
    "fruits = [\"apple\", \"banana\", \"cherry\"]\n",
    "removed_item = fruits.pop(1)   # removes item at index 1 (\"banana\")\n",
    "print(fruits)\n",
    "print(\"Removed:\", removed_item)"
   ]
  },
  {
   "cell_type": "code",
   "execution_count": 9,
   "id": "c42fedad-b399-450f-964c-3f124fad56aa",
   "metadata": {},
   "outputs": [
    {
     "name": "stdout",
     "output_type": "stream",
     "text": [
      "['apple', 'cherry']\n"
     ]
    }
   ],
   "source": [
    "fruits = [\"apple\", \"banana\", \"cherry\"]\n",
    "fruits.remove(\"banana\")\n",
    "print(fruits)"
   ]
  },
  {
   "cell_type": "code",
   "execution_count": 10,
   "id": "8a38d5f5-d857-44e5-899e-38fcc9fbe06c",
   "metadata": {},
   "outputs": [
    {
     "name": "stdout",
     "output_type": "stream",
     "text": [
      "['apple', 'banana']\n",
      "Removed: cherry\n"
     ]
    }
   ],
   "source": [
    "fruits = [\"apple\", \"banana\", \"cherry\"]\n",
    "last_item = fruits.pop()\n",
    "print(fruits)\n",
    "print(\"Removed:\", last_item)"
   ]
  },
  {
   "cell_type": "code",
   "execution_count": 11,
   "id": "b6c47506-b649-4861-9072-d83d5ab66c63",
   "metadata": {},
   "outputs": [
    {
     "name": "stdout",
     "output_type": "stream",
     "text": [
      "['apple', 'cherry']\n"
     ]
    }
   ],
   "source": [
    "fruits = [\"apple\", \"banana\", \"cherry\"]\n",
    "fruits.remove(\"banana\")\n",
    "print(fruits)"
   ]
  },
  {
   "cell_type": "code",
   "execution_count": 12,
   "id": "250b39ee-879b-466f-91dc-e7c91f972b70",
   "metadata": {},
   "outputs": [
    {
     "name": "stdout",
     "output_type": "stream",
     "text": [
      "['apple', 'banana']\n",
      "Removed: cherry\n"
     ]
    }
   ],
   "source": [
    "fruits = [\"apple\", \"banana\", \"cherry\"]\n",
    "removed = fruits.pop()\n",
    "print(fruits)\n",
    "print(\"Removed:\", removed)"
   ]
  },
  {
   "cell_type": "code",
   "execution_count": 13,
   "id": "1f906333-5215-427c-af61-45ca1aa802ec",
   "metadata": {},
   "outputs": [
    {
     "name": "stdout",
     "output_type": "stream",
     "text": [
      "['apple', 'banana', 'cherry']\n"
     ]
    }
   ],
   "source": [
    "fruits = [\"apple\", \"cherry\"]\n",
    "fruits.insert(1, \"banana\")  # insert \"banana\" at index 1\n",
    "print(fruits)"
   ]
  },
  {
   "cell_type": "code",
   "execution_count": 14,
   "id": "4d756696-0718-41dc-96ba-169db84d747b",
   "metadata": {},
   "outputs": [
    {
     "name": "stdout",
     "output_type": "stream",
     "text": [
      "I like apple\n",
      "I like banana\n",
      "I like cherry\n"
     ]
    }
   ],
   "source": [
    "fruits = [\"apple\", \"banana\", \"cherry\"]\n",
    "\n",
    "for fruit in fruits:\n",
    "    print(\"I like\", fruit)"
   ]
  },
  {
   "cell_type": "code",
   "execution_count": 15,
   "id": "4708a5fc-a333-4ecc-8f41-831577ea77bb",
   "metadata": {},
   "outputs": [
    {
     "name": "stdout",
     "output_type": "stream",
     "text": [
      "Sorted: ['apple', 'banana', 'cherry', 'mango']\n",
      "Reversed: ['mango', 'cherry', 'banana', 'apple']\n"
     ]
    }
   ],
   "source": [
    "fruits = [\"banana\", \"apple\", \"cherry\", \"mango\"]\n",
    "\n",
    "# Sort the list alphabetically\n",
    "fruits.sort()\n",
    "print(\"Sorted:\", fruits)\n",
    "\n",
    "# Reverse the order\n",
    "fruits.reverse()\n",
    "print(\"Reversed:\", fruits)"
   ]
  },
  {
   "cell_type": "code",
   "execution_count": 16,
   "id": "58e0c22c-9c53-4a30-8790-5ee260830c20",
   "metadata": {},
   "outputs": [
    {
     "name": "stdout",
     "output_type": "stream",
     "text": [
      "I like apple\n",
      "I like banana\n",
      "I like cherry\n"
     ]
    }
   ],
   "source": [
    "fruits = [\"apple\", \"banana\", \"cherry\"]\n",
    "\n",
    "for fruit in fruits:\n",
    "    print(\"I like\", fruit)"
   ]
  },
  {
   "cell_type": "code",
   "execution_count": 17,
   "id": "d6aad14d-0e02-4935-847d-9a3f7085ad1a",
   "metadata": {},
   "outputs": [
    {
     "name": "stdout",
     "output_type": "stream",
     "text": [
      "0: apple\n",
      "1: banana\n",
      "2: cherry\n"
     ]
    }
   ],
   "source": [
    "fruits = [\"apple\", \"banana\", \"cherry\"]\n",
    "\n",
    "for index, fruit in enumerate(fruits):\n",
    "    print(f\"{index}: {fruit}\")"
   ]
  },
  {
   "cell_type": "code",
   "execution_count": 18,
   "id": "52b8471e-cb6c-4a71-a06d-0c8361dcf1fd",
   "metadata": {},
   "outputs": [
    {
     "name": "stdout",
     "output_type": "stream",
     "text": [
      "('apple', 'banana', 'cherry')\n",
      "apple\n",
      "banana\n"
     ]
    }
   ],
   "source": [
    "# A tuple of fruits\n",
    "fruits = (\"apple\", \"banana\", \"cherry\")\n",
    "\n",
    "print(fruits)       # Shows the whole tuple\n",
    "print(fruits[0])    # Shows the first fruit\n",
    "print(fruits[1])    # Shows the second fruit"
   ]
  },
  {
   "cell_type": "code",
   "execution_count": 19,
   "id": "ed607285-bd77-40ac-a717-0bbe03acf055",
   "metadata": {},
   "outputs": [
    {
     "ename": "TypeError",
     "evalue": "'tuple' object does not support item assignment",
     "output_type": "error",
     "traceback": [
      "\u001b[31m---------------------------------------------------------------------------\u001b[39m",
      "\u001b[31mTypeError\u001b[39m                                 Traceback (most recent call last)",
      "\u001b[36mCell\u001b[39m\u001b[36m \u001b[39m\u001b[32mIn[19]\u001b[39m\u001b[32m, line 2\u001b[39m\n\u001b[32m      1\u001b[39m fruits = (\u001b[33m\"\u001b[39m\u001b[33mapple\u001b[39m\u001b[33m\"\u001b[39m, \u001b[33m\"\u001b[39m\u001b[33mbanana\u001b[39m\u001b[33m\"\u001b[39m, \u001b[33m\"\u001b[39m\u001b[33mcherry\u001b[39m\u001b[33m\"\u001b[39m)\n\u001b[32m----> \u001b[39m\u001b[32m2\u001b[39m \u001b[43mfruits\u001b[49m\u001b[43m[\u001b[49m\u001b[32;43m1\u001b[39;49m\u001b[43m]\u001b[49m = \u001b[33m\"\u001b[39m\u001b[33morange\u001b[39m\u001b[33m\"\u001b[39m   \u001b[38;5;66;03m# Try to change \"banana\" → \"orange\"\u001b[39;00m\n",
      "\u001b[31mTypeError\u001b[39m: 'tuple' object does not support item assignment"
     ]
    }
   ],
   "source": [
    "fruits = (\"apple\", \"banana\", \"cherry\")\n",
    "fruits[1] = \"orange\"   # Try to change \"banana\" → \"orange\""
   ]
  },
  {
   "cell_type": "code",
   "execution_count": 20,
   "id": "cc6dd8dc-cfb5-4d59-851e-040d933cb33d",
   "metadata": {},
   "outputs": [
    {
     "name": "stdout",
     "output_type": "stream",
     "text": [
      "apple\n",
      "cherry\n"
     ]
    }
   ],
   "source": [
    "fruits = (\"apple\", \"banana\", \"cherry\")\n",
    "print(fruits[0])   # first item\n",
    "print(fruits[-1])  # last item"
   ]
  },
  {
   "cell_type": "code",
   "execution_count": 21,
   "id": "4a6999e0-3158-4349-b161-cd9ff28896aa",
   "metadata": {},
   "outputs": [
    {
     "name": "stdout",
     "output_type": "stream",
     "text": [
      "apple\n",
      "cherry\n"
     ]
    }
   ],
   "source": [
    "fruits = (\"apple\", \"banana\", \"cherry\")\n",
    "print(fruits[0])   # first item\n",
    "print(fruits[-1])  # last item"
   ]
  },
  {
   "cell_type": "code",
   "execution_count": 22,
   "id": "6d25cac7-531f-4e82-abf4-6a83ca3f7d97",
   "metadata": {},
   "outputs": [
    {
     "name": "stdout",
     "output_type": "stream",
     "text": [
      "I like apple\n",
      "I like banana\n",
      "I like cherry\n"
     ]
    }
   ],
   "source": [
    "fruits = (\"apple\", \"banana\", \"cherry\")\n",
    "\n",
    "for fruit in fruits:\n",
    "    print(\"I like\", fruit)"
   ]
  },
  {
   "cell_type": "code",
   "execution_count": 23,
   "id": "32d56b2c-1965-4ad1-9c75-e536b9ee2a89",
   "metadata": {},
   "outputs": [
    {
     "name": "stdout",
     "output_type": "stream",
     "text": [
      "Yes, banana is in the fruits tuple!\n"
     ]
    }
   ],
   "source": [
    "fruits = (\"apple\", \"banana\", \"cherry\")\n",
    "\n",
    "if \"banana\" in fruits:\n",
    "    print(\"Yes, banana is in the fruits tuple!\")\n",
    "else:\n",
    "    print(\"No, banana is not here.\")"
   ]
  },
  {
   "cell_type": "code",
   "execution_count": 24,
   "id": "acf98c86-2dfc-4d73-ad1d-515dd449a380",
   "metadata": {},
   "outputs": [
    {
     "name": "stdout",
     "output_type": "stream",
     "text": [
      "apple\n",
      "banana\n",
      "cherry\n"
     ]
    }
   ],
   "source": [
    "fruits = (\"apple\", \"banana\", \"cherry\")\n",
    "\n",
    "for fruit in fruits:\n",
    "    print(fruit)"
   ]
  },
  {
   "cell_type": "code",
   "execution_count": 25,
   "id": "b35fa913-2c50-4571-bc2a-d46d18ae6d4d",
   "metadata": {},
   "outputs": [
    {
     "name": "stdout",
     "output_type": "stream",
     "text": [
      "Yes, banana is in the tuple!\n"
     ]
    }
   ],
   "source": [
    "fruits = (\"apple\", \"banana\", \"cherry\")\n",
    "\n",
    "if \"banana\" in fruits:\n",
    "    print(\"Yes, banana is in the tuple!\")\n",
    "else:\n",
    "    print(\"No, banana is not in the tuple.\")"
   ]
  },
  {
   "cell_type": "code",
   "execution_count": 26,
   "id": "533b10d3-888f-4efb-b673-42b8f182c867",
   "metadata": {},
   "outputs": [
    {
     "name": "stdout",
     "output_type": "stream",
     "text": [
      "3\n"
     ]
    }
   ],
   "source": [
    "fruits = (\"apple\", \"banana\", \"cherry\")\n",
    "print(len(fruits))"
   ]
  },
  {
   "cell_type": "code",
   "execution_count": 27,
   "id": "f9da02f2-630c-4713-964e-7a7277c4899a",
   "metadata": {},
   "outputs": [
    {
     "name": "stdout",
     "output_type": "stream",
     "text": [
      "✅ Banana is in the tuple\n"
     ]
    }
   ],
   "source": [
    "fruits = (\"apple\", \"banana\", \"cherry\")\n",
    "\n",
    "if \"banana\" in fruits:\n",
    "    print(\"✅ Banana is in the tuple\")\n",
    "else:\n",
    "    print(\"❌ Banana is NOT in the tuple\")"
   ]
  },
  {
   "cell_type": "code",
   "execution_count": 28,
   "id": "76663e89-6899-44e6-a563-a246ee16d003",
   "metadata": {},
   "outputs": [
    {
     "name": "stdout",
     "output_type": "stream",
     "text": [
      "❌ Orange is NOT in the tuple\n"
     ]
    }
   ],
   "source": [
    "fruits = (\"apple\", \"banana\", \"cherry\")\n",
    "\n",
    "if \"orange\" not in fruits:\n",
    "    print(\"❌ Orange is NOT in the tuple\")\n",
    "else:\n",
    "    print(\"✅ Orange is in the tuple\")"
   ]
  },
  {
   "cell_type": "code",
   "execution_count": 29,
   "id": "c94a96c3-7c23-47e9-b99e-7b62329db6d1",
   "metadata": {},
   "outputs": [
    {
     "name": "stdout",
     "output_type": "stream",
     "text": [
      "I like apple\n",
      "I like banana\n",
      "I like cherry\n"
     ]
    }
   ],
   "source": [
    "fruits = (\"apple\", \"banana\", \"cherry\")\n",
    "\n",
    "for fruit in fruits:\n",
    "    print(\"I like\", fruit)"
   ]
  },
  {
   "cell_type": "code",
   "execution_count": 30,
   "id": "c7721e17-ae17-47d5-ac9a-b68d4ba9f979",
   "metadata": {},
   "outputs": [
    {
     "name": "stdout",
     "output_type": "stream",
     "text": [
      "Number of fruits: 3\n"
     ]
    }
   ],
   "source": [
    "fruits = (\"apple\", \"banana\", \"cherry\")\n",
    "print(\"Number of fruits:\", len(fruits))"
   ]
  },
  {
   "cell_type": "code",
   "execution_count": 31,
   "id": "0c8229ff-78e1-4617-99a9-c94abbae340c",
   "metadata": {},
   "outputs": [
    {
     "name": "stdout",
     "output_type": "stream",
     "text": [
      "apple\n",
      "banana\n",
      "cherry\n"
     ]
    }
   ],
   "source": [
    "fruits = (\"apple\", \"banana\", \"cherry\")\n",
    "\n",
    "for fruit in fruits:\n",
    "    print(fruit)"
   ]
  },
  {
   "cell_type": "code",
   "execution_count": 32,
   "id": "cd0d814a-8355-4fba-b2ac-ed9f06949617",
   "metadata": {},
   "outputs": [
    {
     "name": "stdout",
     "output_type": "stream",
     "text": [
      "Yes, banana is in the fruits tuple!\n"
     ]
    }
   ],
   "source": [
    "fruits = (\"apple\", \"banana\", \"cherry\")\n",
    "\n",
    "if \"banana\" in fruits:\n",
    "    print(\"Yes, banana is in the fruits tuple!\")\n",
    "else:\n",
    "    print(\"No, banana is not in the fruits tuple.\")"
   ]
  },
  {
   "cell_type": "code",
   "execution_count": 33,
   "id": "008a3706-3a29-4156-af64-e314233403e8",
   "metadata": {},
   "outputs": [
    {
     "name": "stdout",
     "output_type": "stream",
     "text": [
      "The tuple has 3 items.\n"
     ]
    }
   ],
   "source": [
    "fruits = (\"apple\", \"banana\", \"cherry\")\n",
    "print(\"The tuple has\", len(fruits), \"items.\")"
   ]
  },
  {
   "cell_type": "code",
   "execution_count": 34,
   "id": "c5641bd4-745d-4dc0-9555-400131b258dc",
   "metadata": {},
   "outputs": [
    {
     "name": "stdout",
     "output_type": "stream",
     "text": [
      "Yes, banana is in the fruits tuple!\n"
     ]
    }
   ],
   "source": [
    "fruits = (\"apple\", \"banana\", \"cherry\")\n",
    "\n",
    "if \"banana\" in fruits:\n",
    "    print(\"Yes, banana is in the fruits tuple!\")\n",
    "else:\n",
    "    print(\"No, banana is not in the fruits tuple.\")"
   ]
  },
  {
   "cell_type": "code",
   "execution_count": 35,
   "id": "68708fe1-5b7f-436b-ac10-94462b4ed616",
   "metadata": {},
   "outputs": [
    {
     "name": "stdout",
     "output_type": "stream",
     "text": [
      "apple\n",
      "banana\n",
      "cherry\n"
     ]
    }
   ],
   "source": [
    "fruits = (\"apple\", \"banana\", \"cherry\")\n",
    "\n",
    "for fruit in fruits:\n",
    "    print(fruit)"
   ]
  },
  {
   "cell_type": "code",
   "execution_count": 36,
   "id": "61dd6903-5cca-49cb-8e9b-6ade48ef62f2",
   "metadata": {},
   "outputs": [
    {
     "name": "stdout",
     "output_type": "stream",
     "text": [
      "Index 0: apple\n",
      "Index 1: banana\n",
      "Index 2: cherry\n"
     ]
    }
   ],
   "source": [
    "fruits = (\"apple\", \"banana\", \"cherry\")\n",
    "\n",
    "for i in range(len(fruits)):\n",
    "    print(f\"Index {i}: {fruits[i]}\")"
   ]
  },
  {
   "cell_type": "code",
   "execution_count": 37,
   "id": "aa9f1e66-e9fd-497e-88f0-1f4268a9bf0f",
   "metadata": {},
   "outputs": [
    {
     "name": "stdout",
     "output_type": "stream",
     "text": [
      "First fruit: apple\n",
      "Second fruit: banana\n",
      "Third fruit: cherry\n"
     ]
    }
   ],
   "source": [
    "fruits = (\"apple\", \"banana\", \"cherry\")\n",
    "\n",
    "# Unpack the tuple into variables\n",
    "(first, second, third) = fruits\n",
    "\n",
    "print(\"First fruit:\", first)\n",
    "print(\"Second fruit:\", second)\n",
    "print(\"Third fruit:\", third)"
   ]
  },
  {
   "cell_type": "code",
   "execution_count": 38,
   "id": "c2e03719-43b4-4859-9fa7-397393e7dcd5",
   "metadata": {},
   "outputs": [
    {
     "name": "stdout",
     "output_type": "stream",
     "text": [
      "x: apple\n",
      "y: ['banana', 'cherry', 'orange']\n",
      "z: mango\n"
     ]
    }
   ],
   "source": [
    "fruits = (\"apple\", \"banana\", \"cherry\", \"orange\", \"mango\")\n",
    "\n",
    "# Put the first item in x, the last in z, and everything else in y\n",
    "(x, *y, z) = fruits  \n",
    "\n",
    "print(\"x:\", x)\n",
    "print(\"y:\", y)\n",
    "print(\"z:\", z)"
   ]
  },
  {
   "cell_type": "code",
   "execution_count": 39,
   "id": "89a8b8c4-106c-4929-9b6a-efca02eb24f7",
   "metadata": {},
   "outputs": [
    {
     "name": "stdout",
     "output_type": "stream",
     "text": [
      "I like apple\n",
      "I like banana\n",
      "I like cherry\n"
     ]
    }
   ],
   "source": [
    "fruits = (\"apple\", \"banana\", \"cherry\")\n",
    "\n",
    "for fruit in fruits:\n",
    "    print(\"I like\", fruit)"
   ]
  },
  {
   "cell_type": "code",
   "execution_count": 40,
   "id": "211bea6f-c59b-4712-bee6-6c3b4e4eeb37",
   "metadata": {},
   "outputs": [
    {
     "name": "stdout",
     "output_type": "stream",
     "text": [
      "Yes, banana is in the tuple!\n"
     ]
    }
   ],
   "source": [
    "fruits = (\"apple\", \"banana\", \"cherry\")\n",
    "\n",
    "if \"banana\" in fruits:\n",
    "    print(\"Yes, banana is in the tuple!\")\n",
    "else:\n",
    "    print(\"No, banana is not here.\")"
   ]
  },
  {
   "cell_type": "code",
   "execution_count": 41,
   "id": "97fe9b6e-dded-4057-835b-df7c0a296145",
   "metadata": {},
   "outputs": [
    {
     "name": "stdout",
     "output_type": "stream",
     "text": [
      "No, orange is not here.\n"
     ]
    }
   ],
   "source": [
    "fruits = (\"apple\", \"banana\", \"cherry\")\n",
    "\n",
    "if \"orange\" in fruits:\n",
    "    print(\"Yes, orange is in the tuple!\")\n",
    "else:\n",
    "    print(\"No, orange is not here.\")"
   ]
  },
  {
   "cell_type": "code",
   "execution_count": 42,
   "id": "bf3dbbcd-bcf9-40b9-9bed-e9b849a674a9",
   "metadata": {},
   "outputs": [
    {
     "name": "stdout",
     "output_type": "stream",
     "text": [
      "{'name': 'Jarrod', 'age': 46, 'city': 'Huntington Beach'}\n"
     ]
    }
   ],
   "source": [
    "person = {\n",
    "    \"name\": \"Jarrod\",\n",
    "    \"age\": 46,\n",
    "    \"city\": \"Huntington Beach\"\n",
    "}\n",
    "\n",
    "print(person)"
   ]
  },
  {
   "cell_type": "code",
   "execution_count": 43,
   "id": "3f7dcf69-06de-4e1e-a8af-bdce4af0a07b",
   "metadata": {},
   "outputs": [
    {
     "name": "stdout",
     "output_type": "stream",
     "text": [
      "Jarrod\n",
      "46\n"
     ]
    }
   ],
   "source": [
    "print(person[\"name\"])   # Gets the value for the key \"name\"\n",
    "print(person[\"age\"])    # Gets the value for the key \"age\""
   ]
  },
  {
   "cell_type": "code",
   "execution_count": 44,
   "id": "b396fe0d-7810-4cf5-9a7d-7cfa86a5ea4a",
   "metadata": {},
   "outputs": [
    {
     "name": "stdout",
     "output_type": "stream",
     "text": [
      "{'name': 'Jarrod', 'age': 47, 'city': 'Huntington Beach'}\n"
     ]
    }
   ],
   "source": [
    "person[\"age\"] = 47   # Updates the age  \n",
    "print(person)"
   ]
  },
  {
   "cell_type": "code",
   "execution_count": 45,
   "id": "65fc33ba-bdf4-4718-aca4-87512e0252b4",
   "metadata": {},
   "outputs": [
    {
     "name": "stdout",
     "output_type": "stream",
     "text": [
      "{'name': 'Jarrod', 'age': 47, 'city': 'Huntington Beach', 'job': 'Developer'}\n"
     ]
    }
   ],
   "source": [
    "person[\"job\"] = \"Developer\"   # Adds a new key called \"job\"\n",
    "print(person)"
   ]
  },
  {
   "cell_type": "code",
   "execution_count": 46,
   "id": "879b57bc-3ccb-407e-aff4-df5cb9bc7b04",
   "metadata": {},
   "outputs": [
    {
     "name": "stdout",
     "output_type": "stream",
     "text": [
      "{'name': 'Jarrod', 'age': 46, 'city': 'Huntington Beach', 'job': 'Developer'}\n"
     ]
    }
   ],
   "source": [
    "person[\"age\"] = 46   # Change the age value\n",
    "print(person)"
   ]
  },
  {
   "cell_type": "code",
   "execution_count": 47,
   "id": "7c386560-91da-4945-8c48-1128447b14e4",
   "metadata": {},
   "outputs": [
    {
     "name": "stdout",
     "output_type": "stream",
     "text": [
      "{'name': 'Jarrod', 'age': 46, 'city': 'Huntington Beach', 'job': 'Developer', 'email': 'jarrod@example.com'}\n"
     ]
    }
   ],
   "source": [
    "person[\"email\"] = \"jarrod@example.com\"\n",
    "print(person)"
   ]
  },
  {
   "cell_type": "code",
   "execution_count": 48,
   "id": "3198110a-d7b4-4307-86cf-d73bfc77bcaf",
   "metadata": {},
   "outputs": [
    {
     "name": "stdout",
     "output_type": "stream",
     "text": [
      "Removed: Huntington Beach\n",
      "{'name': 'Jarrod', 'age': 46, 'job': 'Developer', 'email': 'jarrod@example.com'}\n"
     ]
    }
   ],
   "source": [
    "removed = person.pop(\"city\")   # removes the city\n",
    "print(\"Removed:\", removed)\n",
    "print(person)"
   ]
  },
  {
   "cell_type": "code",
   "execution_count": 49,
   "id": "1cca8db8-21d7-4f4f-853e-0e5557616c24",
   "metadata": {},
   "outputs": [
    {
     "name": "stdout",
     "output_type": "stream",
     "text": [
      "name : Jarrod\n",
      "age : 46\n",
      "job : Developer\n",
      "email : jarrod@example.com\n"
     ]
    }
   ],
   "source": [
    "for key, value in person.items():\n",
    "    print(key, \":\", value)"
   ]
  },
  {
   "cell_type": "code",
   "execution_count": 50,
   "id": "0ff8dd02-990b-4b61-8746-56ad9593e589",
   "metadata": {},
   "outputs": [
    {
     "name": "stdout",
     "output_type": "stream",
     "text": [
      "Yes, 'age' is a key in the dictionary!\n"
     ]
    }
   ],
   "source": [
    "if \"age\" in person:\n",
    "    print(\"Yes, 'age' is a key in the dictionary!\")\n",
    "else:\n",
    "    print(\"No, 'age' is not a key.\")"
   ]
  },
  {
   "cell_type": "code",
   "execution_count": 51,
   "id": "a341f010-a99c-4fa3-aa95-3d08b86f7f7b",
   "metadata": {},
   "outputs": [
    {
     "name": "stdout",
     "output_type": "stream",
     "text": [
      "name: Jarrod\n",
      "age: 46\n",
      "job: Developer\n",
      "email: jarrod@example.com\n"
     ]
    }
   ],
   "source": [
    "for key, value in person.items():\n",
    "    print(f\"{key}: {value}\")"
   ]
  },
  {
   "cell_type": "code",
   "execution_count": 52,
   "id": "0499d528-dcec-4e79-8a5e-94bcaeb0879f",
   "metadata": {},
   "outputs": [
    {
     "name": "stdout",
     "output_type": "stream",
     "text": [
      "No, 'city' is not in the dictionary\n"
     ]
    }
   ],
   "source": [
    "if \"city\" in person:\n",
    "    print(\"Yes, 'city' is in the dictionary\")\n",
    "else:\n",
    "    print(\"No, 'city' is not in the dictionary\")"
   ]
  },
  {
   "cell_type": "code",
   "execution_count": 53,
   "id": "20e9a8e6-6faf-477e-a0d0-62fb6eb3b6b8",
   "metadata": {},
   "outputs": [
    {
     "ename": "KeyError",
     "evalue": "'city'",
     "output_type": "error",
     "traceback": [
      "\u001b[31m---------------------------------------------------------------------------\u001b[39m",
      "\u001b[31mKeyError\u001b[39m                                  Traceback (most recent call last)",
      "\u001b[36mCell\u001b[39m\u001b[36m \u001b[39m\u001b[32mIn[53]\u001b[39m\u001b[32m, line 1\u001b[39m\n\u001b[32m----> \u001b[39m\u001b[32m1\u001b[39m removed = \u001b[43mperson\u001b[49m\u001b[43m.\u001b[49m\u001b[43mpop\u001b[49m\u001b[43m(\u001b[49m\u001b[33;43m\"\u001b[39;49m\u001b[33;43mcity\u001b[39;49m\u001b[33;43m\"\u001b[39;49m\u001b[43m)\u001b[49m   \u001b[38;5;66;03m# remove the key \"city\"\u001b[39;00m\n\u001b[32m      2\u001b[39m \u001b[38;5;28mprint\u001b[39m(\u001b[33m\"\u001b[39m\u001b[33mRemoved:\u001b[39m\u001b[33m\"\u001b[39m, removed)\n\u001b[32m      3\u001b[39m \u001b[38;5;28mprint\u001b[39m(person)\n",
      "\u001b[31mKeyError\u001b[39m: 'city'"
     ]
    }
   ],
   "source": [
    "removed = person.pop(\"city\")   # remove the key \"city\"\n",
    "print(\"Removed:\", removed)\n",
    "print(person)"
   ]
  },
  {
   "cell_type": "code",
   "execution_count": 54,
   "id": "41155031-dba8-478e-bd8c-a59f96acd91f",
   "metadata": {},
   "outputs": [
    {
     "name": "stdout",
     "output_type": "stream",
     "text": [
      "Removed: 46\n",
      "{'name': 'Jarrod', 'job': 'Developer', 'email': 'jarrod@example.com'}\n"
     ]
    }
   ],
   "source": [
    "removed = person.pop(\"age\")   # remove the key \"age\"\n",
    "print(\"Removed:\", removed)\n",
    "print(person)"
   ]
  },
  {
   "cell_type": "code",
   "execution_count": 55,
   "id": "8242074c-ddae-4137-8386-4969788ee8c4",
   "metadata": {},
   "outputs": [
    {
     "name": "stdout",
     "output_type": "stream",
     "text": [
      "{}\n"
     ]
    }
   ],
   "source": [
    "person.clear()   # removes all key-value pairs\n",
    "print(person)"
   ]
  },
  {
   "cell_type": "code",
   "execution_count": 56,
   "id": "ec8f72ea-ff60-4740-ad0f-c87e1e51eafd",
   "metadata": {},
   "outputs": [],
   "source": [
    "del person   # completely deletes the dictionary"
   ]
  },
  {
   "cell_type": "code",
   "execution_count": 57,
   "id": "f904b430-437c-4516-8257-921ca5946ebb",
   "metadata": {},
   "outputs": [
    {
     "name": "stdout",
     "output_type": "stream",
     "text": [
      "Key: name\n",
      "Key: age\n",
      "Key: city\n",
      "Value: Jarrod\n",
      "Value: 46\n",
      "Value: Huntington Beach\n",
      "name → Jarrod\n",
      "age → 46\n",
      "city → Huntington Beach\n"
     ]
    }
   ],
   "source": [
    "person = {\"name\": \"Jarrod\", \"age\": 46, \"city\": \"Huntington Beach\"}\n",
    "\n",
    "# Loop through keys\n",
    "for key in person:\n",
    "    print(\"Key:\", key)\n",
    "\n",
    "# Loop through values\n",
    "for value in person.values():\n",
    "    print(\"Value:\", value)\n",
    "\n",
    "# Loop through key-value pairs\n",
    "for key, value in person.items():\n",
    "    print(f\"{key} → {value}\")"
   ]
  },
  {
   "cell_type": "code",
   "execution_count": 58,
   "id": "2e45e7b3-2f89-4f82-858e-d9b5ce796c5e",
   "metadata": {},
   "outputs": [
    {
     "name": "stdout",
     "output_type": "stream",
     "text": [
      "Mom’s number: 555-1234\n",
      "Mom: 555-1234\n",
      "Dad: 555-0000\n",
      "Best Friend: 555-9999\n",
      "Boss: 555-1111\n"
     ]
    }
   ],
   "source": [
    "phone_book = {\n",
    "    \"Mom\": \"555-1234\",\n",
    "    \"Dad\": \"555-5678\",\n",
    "    \"Best Friend\": \"555-9999\"\n",
    "}\n",
    "\n",
    "# Look up a number\n",
    "print(\"Mom’s number:\", phone_book[\"Mom\"])\n",
    "\n",
    "# Add a new contact\n",
    "phone_book[\"Boss\"] = \"555-1111\"\n",
    "\n",
    "# Update a number\n",
    "phone_book[\"Dad\"] = \"555-0000\"\n",
    "\n",
    "# Loop through and print all contacts\n",
    "for name, number in phone_book.items():\n",
    "    print(f\"{name}: {number}\")"
   ]
  },
  {
   "cell_type": "code",
   "execution_count": 59,
   "id": "cef22a3e-c756-45f6-8d58-c2db01deb4b5",
   "metadata": {},
   "outputs": [
    {
     "name": "stdout",
     "output_type": "stream",
     "text": [
      "\n",
      "Phone Book Menu\n",
      "1) Look up a number\n",
      "2) Add a new contact\n",
      "3) Update a number\n",
      "4) Show all contacts\n",
      "5) Quit\n"
     ]
    },
    {
     "name": "stdin",
     "output_type": "stream",
     "text": [
      "Choose an option (1-5):  1\n",
      "Enter the name:  mom\n"
     ]
    },
    {
     "name": "stdout",
     "output_type": "stream",
     "text": [
      "Not found.\n",
      "\n",
      "Phone Book Menu\n",
      "1) Look up a number\n",
      "2) Add a new contact\n",
      "3) Update a number\n",
      "4) Show all contacts\n",
      "5) Quit\n"
     ]
    },
    {
     "name": "stdin",
     "output_type": "stream",
     "text": [
      "Choose an option (1-5):  2\n",
      "Enter the new contact name:  Viviana\n",
      "Enter the phone number:  818-800-1111\n"
     ]
    },
    {
     "name": "stdout",
     "output_type": "stream",
     "text": [
      "Added Viviana.\n",
      "\n",
      "Phone Book Menu\n",
      "1) Look up a number\n",
      "2) Add a new contact\n",
      "3) Update a number\n",
      "4) Show all contacts\n",
      "5) Quit\n"
     ]
    },
    {
     "name": "stdin",
     "output_type": "stream",
     "text": [
      "Choose an option (1-5):  4\n"
     ]
    },
    {
     "name": "stdout",
     "output_type": "stream",
     "text": [
      "Mom: 555-1234\n",
      "Dad: 555-5678\n",
      "Best Friend: 555-9999\n",
      "Viviana: 818-800-1111\n",
      "\n",
      "Phone Book Menu\n",
      "1) Look up a number\n",
      "2) Add a new contact\n",
      "3) Update a number\n",
      "4) Show all contacts\n",
      "5) Quit\n"
     ]
    },
    {
     "name": "stdin",
     "output_type": "stream",
     "text": [
      "Choose an option (1-5):  5\n"
     ]
    },
    {
     "name": "stdout",
     "output_type": "stream",
     "text": [
      "Goodbye!\n"
     ]
    }
   ],
   "source": [
    "phone_book = {\n",
    "    \"Mom\": \"555-1234\",\n",
    "    \"Dad\": \"555-5678\",\n",
    "    \"Best Friend\": \"555-9999\"\n",
    "}\n",
    "\n",
    "while True:\n",
    "    print(\"\\nPhone Book Menu\")\n",
    "    print(\"1) Look up a number\")\n",
    "    print(\"2) Add a new contact\")\n",
    "    print(\"3) Update a number\")\n",
    "    print(\"4) Show all contacts\")\n",
    "    print(\"5) Quit\")\n",
    "\n",
    "    choice = input(\"Choose an option (1-5): \")\n",
    "\n",
    "    if choice == \"1\":\n",
    "        name = input(\"Enter the name: \")\n",
    "        print(phone_book.get(name, \"Not found.\"))\n",
    "\n",
    "    elif choice == \"2\":\n",
    "        name = input(\"Enter the new contact name: \")\n",
    "        number = input(\"Enter the phone number: \")\n",
    "        phone_book[name] = number\n",
    "        print(f\"Added {name}.\")\n",
    "\n",
    "    elif choice == \"3\":\n",
    "        name = input(\"Enter the name to update: \")\n",
    "        if name in phone_book:\n",
    "            number = input(\"Enter the new number: \")\n",
    "            phone_book[name] = number\n",
    "            print(f\"Updated {name}.\")\n",
    "        else:\n",
    "            print(\"Contact not found.\")\n",
    "\n",
    "    elif choice == \"4\":\n",
    "        for name, number in phone_book.items():\n",
    "            print(f\"{name}: {number}\")\n",
    "\n",
    "    elif choice == \"5\":\n",
    "        print(\"Goodbye!\")\n",
    "        break\n",
    "\n",
    "    else:\n",
    "        print(\"Invalid choice. Try again.\")"
   ]
  },
  {
   "cell_type": "code",
   "execution_count": null,
   "id": "9180e8f2-a011-472b-9707-f9edd81f5f94",
   "metadata": {},
   "outputs": [],
   "source": []
  }
 ],
 "metadata": {
  "kernelspec": {
   "display_name": "Python 3 (ipykernel)",
   "language": "python",
   "name": "python3"
  },
  "language_info": {
   "codemirror_mode": {
    "name": "ipython",
    "version": 3
   },
   "file_extension": ".py",
   "mimetype": "text/x-python",
   "name": "python",
   "nbconvert_exporter": "python",
   "pygments_lexer": "ipython3",
   "version": "3.13.6"
  }
 },
 "nbformat": 4,
 "nbformat_minor": 5
}
