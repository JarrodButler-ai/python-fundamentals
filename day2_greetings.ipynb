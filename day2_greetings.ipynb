{
 "cells": [
  {
   "cell_type": "code",
   "execution_count": 1,
   "id": "7e0e469b-b3ad-48c7-a20f-62b2e9e5cfce",
   "metadata": {},
   "outputs": [
    {
     "name": "stdout",
     "output_type": "stream",
     "text": [
      "\n",
      "--- Saved Greeting ---\n",
      "Hello, Jarrod from Los Angeles!\n",
      "Next year, you will be 41 years old.\n",
      "Have an amazing day!\n"
     ]
    }
   ],
   "source": [
    "# Step 14 — Read greeting from file and display it\n",
    "try:\n",
    "    with open(\"greeting.txt\", \"r\") as file:\n",
    "        content = file.read()\n",
    "        print(\"\\n--- Saved Greeting ---\")\n",
    "        print(content)\n",
    "except FileNotFoundError:\n",
    "    print(\"No saved greeting found. Please run Step 13 first to create one.\")"
   ]
  },
  {
   "cell_type": "code",
   "execution_count": null,
   "id": "82ca3772-44fe-44f3-a8db-560daf134bde",
   "metadata": {},
   "outputs": [],
   "source": []
  }
 ],
 "metadata": {
  "kernelspec": {
   "display_name": "Python 3 (ipykernel)",
   "language": "python",
   "name": "python3"
  },
  "language_info": {
   "codemirror_mode": {
    "name": "ipython",
    "version": 3
   },
   "file_extension": ".py",
   "mimetype": "text/x-python",
   "name": "python",
   "nbconvert_exporter": "python",
   "pygments_lexer": "ipython3",
   "version": "3.13.6"
  }
 },
 "nbformat": 4,
 "nbformat_minor": 5
}
