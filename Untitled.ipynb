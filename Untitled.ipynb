{
 "cells": [
  {
   "cell_type": "code",
   "execution_count": 1,
   "id": "c951e960-49da-4a06-b78f-6628912959c9",
   "metadata": {},
   "outputs": [
    {
     "name": "stdout",
     "output_type": "stream",
     "text": [
      "Hello Jarrod! Jupyter is working.\n"
     ]
    }
   ],
   "source": [
    "print(\"Hello Jarrod! Jupyter is working.\")"
   ]
  },
  {
   "cell_type": "code",
   "execution_count": 2,
   "id": "7a0335ef-e08b-4002-829c-6777693eef26",
   "metadata": {},
   "outputs": [
    {
     "name": "stdout",
     "output_type": "stream",
     "text": [
      "JARROD BUTLER\n"
     ]
    }
   ],
   "source": [
    "name = \"Jarrod Butler\"  # <- change if you want\n",
    "print(name.upper())"
   ]
  },
  {
   "cell_type": "code",
   "execution_count": 3,
   "id": "0ffff67e-b2b7-47aa-96d7-83be6be440fa",
   "metadata": {},
   "outputs": [
    {
     "name": "stdout",
     "output_type": "stream",
     "text": [
      "Total fruits: 8\n"
     ]
    }
   ],
   "source": [
    "apples = 5\n",
    "oranges = 3\n",
    "total_fruits = apples + oranges\n",
    "print(\"Total fruits:\", total_fruits)"
   ]
  },
  {
   "cell_type": "code",
   "execution_count": 4,
   "id": "ab5a1c81-3be0-4986-a812-f58f95610341",
   "metadata": {},
   "outputs": [
    {
     "name": "stdin",
     "output_type": "stream",
     "text": [
      "What is your name?  jarrod butler\n"
     ]
    },
    {
     "name": "stdout",
     "output_type": "stream",
     "text": [
      "Hello, jarrod butler! Welcome to Python.\n"
     ]
    }
   ],
   "source": [
    "name = input(\"What is your name? \")\n",
    "print(\"Hello, \" + name + \"! Welcome to Python.\")"
   ]
  },
  {
   "cell_type": "code",
   "execution_count": 5,
   "id": "48f4b7e8-b33e-4097-a865-517b969d8910",
   "metadata": {},
   "outputs": [
    {
     "name": "stdin",
     "output_type": "stream",
     "text": [
      "How many apples do you want?  7\n",
      "How many oranges do you want?  7\n"
     ]
    },
    {
     "name": "stdout",
     "output_type": "stream",
     "text": [
      "Your total cost is $24.5\n"
     ]
    }
   ],
   "source": [
    "apple_price = 2\n",
    "orange_price = 1.5\n",
    "\n",
    "apples = int(input(\"How many apples do you want? \"))\n",
    "oranges = int(input(\"How many oranges do you want? \"))\n",
    "\n",
    "total_cost = (apples * apple_price) + (oranges * orange_price)\n",
    "\n",
    "print(\"Your total cost is $\" + str(total_cost))"
   ]
  },
  {
   "cell_type": "code",
   "execution_count": 6,
   "id": "caeb9663-0015-4e43-ba94-0b33336c717c",
   "metadata": {},
   "outputs": [
    {
     "name": "stdin",
     "output_type": "stream",
     "text": [
      "How many apples do you want?  7\n",
      "How many oranges do you want?  7\n"
     ]
    },
    {
     "name": "stdout",
     "output_type": "stream",
     "text": [
      "Your total cost is $24.5\n"
     ]
    }
   ],
   "source": [
    "# Step 1: Set fruit prices\n",
    "apple_price = 2\n",
    "orange_price = 1.5\n",
    "\n",
    "# Step 2: Ask the user how many they want\n",
    "apples = int(input(\"How many apples do you want? \"))\n",
    "oranges = int(input(\"How many oranges do you want? \"))\n",
    "\n",
    "# Step 3: Calculate the total cost\n",
    "total_cost = (apples * apple_price) + (oranges * orange_price)\n",
    "\n",
    "# Step 4: Show the result\n",
    "print(\"Your total cost is $\" + str(total_cost))\n"
   ]
  },
  {
   "cell_type": "code",
   "execution_count": 7,
   "id": "a81cfa5e-643e-49d0-8b2a-ae3e0ee16631",
   "metadata": {},
   "outputs": [
    {
     "name": "stdout",
     "output_type": "stream",
     "text": [
      "\n",
      "Welcome to the Fruit Store!\n"
     ]
    },
    {
     "name": "stdin",
     "output_type": "stream",
     "text": [
      "How many apples do you want?  100000\n",
      "How many oranges do you want?  3987166\n"
     ]
    },
    {
     "name": "stdout",
     "output_type": "stream",
     "text": [
      "Your total cost is $6180749.0\n"
     ]
    },
    {
     "name": "stdin",
     "output_type": "stream",
     "text": [
      "Is there another customer? (yes/no):  no\n"
     ]
    },
    {
     "name": "stdout",
     "output_type": "stream",
     "text": [
      "Store is now closed. Goodbye!\n"
     ]
    }
   ],
   "source": [
    "# Prices for fruits\n",
    "apple_price = 2\n",
    "orange_price = 1.5\n",
    "\n",
    "while True:\n",
    "    print(\"\\nWelcome to the Fruit Store!\")\n",
    "\n",
    "    # Get customer order\n",
    "    apples = int(input(\"How many apples do you want? \"))\n",
    "    oranges = int(input(\"How many oranges do you want? \"))\n",
    "\n",
    "    # Calculate total\n",
    "    total_cost = (apples * apple_price) + (oranges * orange_price)\n",
    "\n",
    "    print(f\"Your total cost is ${total_cost}\")\n",
    "\n",
    "    # Ask if another customer is coming\n",
    "    more_customers = input(\"Is there another customer? (yes/no): \").strip().lower()\n",
    "    if more_customers != \"yes\":\n",
    "        print(\"Store is now closed. Goodbye!\")\n",
    "        break"
   ]
  },
  {
   "cell_type": "code",
   "execution_count": 8,
   "id": "b01e52a6-ca01-4f44-8d4e-c524133c0687",
   "metadata": {},
   "outputs": [
    {
     "name": "stdout",
     "output_type": "stream",
     "text": [
      "\n",
      "Welcome to the Fruit Store!\n"
     ]
    },
    {
     "name": "stdin",
     "output_type": "stream",
     "text": [
      "How many apples do you want?  8794567\n",
      "How many oranges do you want?  9876256798\n"
     ]
    },
    {
     "name": "stdout",
     "output_type": "stream",
     "text": [
      "Your total cost is $14831974331.0\n"
     ]
    },
    {
     "name": "stdin",
     "output_type": "stream",
     "text": [
      "Is there another customer? (yes/no):  no\n"
     ]
    },
    {
     "name": "stdout",
     "output_type": "stream",
     "text": [
      "Store is now closed. Goodbye!\n"
     ]
    }
   ],
   "source": [
    "# Prices for fruits\n",
    "apple_price = 2\n",
    "orange_price = 1.5\n",
    "\n",
    "# Open a file to store orders (append mode so we keep adding)\n",
    "with open(\"orders.txt\", \"a\") as file:\n",
    "\n",
    "    while True:\n",
    "        print(\"\\nWelcome to the Fruit Store!\")\n",
    "\n",
    "        # Get customer order\n",
    "        apples = int(input(\"How many apples do you want? \"))\n",
    "        oranges = int(input(\"How many oranges do you want? \"))\n",
    "\n",
    "        # Calculate total\n",
    "        total_cost = (apples * apple_price) + (oranges * orange_price)\n",
    "\n",
    "        # Show result\n",
    "        print(f\"Your total cost is ${total_cost}\")\n",
    "\n",
    "        # Save order to file\n",
    "        file.write(f\"Apples: {apples}, Oranges: {oranges}, Total: ${total_cost}\\n\")\n",
    "\n",
    "        # Ask if another customer is coming\n",
    "        more_customers = input(\"Is there another customer? (yes/no): \").strip().lower()\n",
    "        if more_customers != \"yes\":\n",
    "            print(\"Store is now closed. Goodbye!\")\n",
    "            break\n",
    "            "
   ]
  },
  {
   "cell_type": "code",
   "execution_count": 9,
   "id": "4c8958d5-4556-4ded-a02c-fe8577e1c5b9",
   "metadata": {},
   "outputs": [
    {
     "name": "stdout",
     "output_type": "stream",
     "text": [
      "Apples: 8794567, Oranges: 9876256798, Total: $14831974331.0\n",
      "\n"
     ]
    }
   ],
   "source": [
    "# See what was saved\n",
    "with open(\"orders.txt\", \"r\") as file:\n",
    "    print(file.read())\n",
    "    "
   ]
  },
  {
   "cell_type": "code",
   "execution_count": 10,
   "id": "2fbb2c5f-2ddf-471f-a7a0-525e40268150",
   "metadata": {},
   "outputs": [
    {
     "name": "stdout",
     "output_type": "stream",
     "text": [
      "All Orders:\n",
      "Apples: 8794567, Oranges: 9876256798, Total: $14831974331.0\n",
      "\n",
      "Total Revenue: $14831974331.0\n"
     ]
    }
   ],
   "source": [
    "# Open the orders file in read mode\n",
    "with open(\"orders.txt\", \"r\") as file:\n",
    "    orders = file.readlines()  # Read all lines into a list\n",
    "\n",
    "# Show what we have\n",
    "print(\"All Orders:\")\n",
    "for order in orders:\n",
    "    print(order.strip())\n",
    "\n",
    "# --- Calculate total revenue ---\n",
    "total_revenue = 0\n",
    "\n",
    "for order in orders:\n",
    "    # Each line looks like: Apples: 2, Oranges: 3, Total: $7.5\n",
    "    parts = order.strip().split(\", \")\n",
    "    total_str = parts[-1]  # Last part: \"Total: $7.5\"\n",
    "    total_value = float(total_str.split(\"$\")[1])\n",
    "    total_revenue += total_value\n",
    "\n",
    "print(f\"\\nTotal Revenue: ${total_revenue}\")\n"
   ]
  },
  {
   "cell_type": "code",
   "execution_count": 11,
   "id": "6e7cbb61-20b8-4328-b798-01bbb332e907",
   "metadata": {},
   "outputs": [
    {
     "name": "stdout",
     "output_type": "stream",
     "text": [
      "Hello, Jarrod!\n"
     ]
    }
   ],
   "source": [
    "message = \"Hello, Jarrod!\"\n",
    "print(message)"
   ]
  },
  {
   "cell_type": "code",
   "execution_count": 12,
   "id": "063f9331-f4db-4ca4-a6f6-f2e7818e9316",
   "metadata": {},
   "outputs": [
    {
     "name": "stdout",
     "output_type": "stream",
     "text": [
      "8\n"
     ]
    }
   ],
   "source": [
    "a = 5\n",
    "b = 3\n",
    "result = a + b\n",
    "print(result)"
   ]
  },
  {
   "cell_type": "code",
   "execution_count": 13,
   "id": "5b4793ff-427e-411e-a1c6-84944ab80b8d",
   "metadata": {},
   "outputs": [
    {
     "name": "stdout",
     "output_type": "stream",
     "text": [
      "Hello, Jarrod!\n"
     ]
    }
   ],
   "source": [
    "name = \"Jarrod\"\n",
    "print(\"Hello, \" + name + \"!\")\n"
   ]
  },
  {
   "cell_type": "code",
   "execution_count": 14,
   "id": "e7465c6c-0234-49f3-aba1-88b21ebef6d9",
   "metadata": {},
   "outputs": [
    {
     "name": "stdout",
     "output_type": "stream",
     "text": [
      "Hello, Jarrod!\n"
     ]
    }
   ],
   "source": [
    "name = \"Jarrod\"\n",
    "print(\"Hello, \" + name + \"!\")"
   ]
  },
  {
   "cell_type": "code",
   "execution_count": 15,
   "id": "b8dc705c-3f5c-4e03-81ed-4fc701159096",
   "metadata": {},
   "outputs": [
    {
     "name": "stdin",
     "output_type": "stream",
     "text": [
      "What is your name?  Jarrod\n"
     ]
    },
    {
     "name": "stdout",
     "output_type": "stream",
     "text": [
      "Hello, Jarrod!\n"
     ]
    }
   ],
   "source": [
    "name = input(\"What is your name? \")\n",
    "print(\"Hello, \" + name + \"!\")\n"
   ]
  },
  {
   "cell_type": "code",
   "execution_count": 16,
   "id": "1665ad52-ed6e-4efb-9246-2341f701e0e8",
   "metadata": {},
   "outputs": [
    {
     "name": "stdin",
     "output_type": "stream",
     "text": [
      "How old are you?  46\n"
     ]
    },
    {
     "name": "stdout",
     "output_type": "stream",
     "text": [
      "Next year, you will be 47 years old.\n"
     ]
    }
   ],
   "source": [
    "age = int(input(\"How old are you? \"))\n",
    "print(\"Next year, you will be\", age + 1, \"years old.\")"
   ]
  },
  {
   "cell_type": "code",
   "execution_count": null,
   "id": "b26b0f18-1e36-48c7-aade-ba969c9478c6",
   "metadata": {},
   "outputs": [],
   "source": []
  }
 ],
 "metadata": {
  "kernelspec": {
   "display_name": "Python 3 (ipykernel)",
   "language": "python",
   "name": "python3"
  },
  "language_info": {
   "codemirror_mode": {
    "name": "ipython",
    "version": 3
   },
   "file_extension": ".py",
   "mimetype": "text/x-python",
   "name": "python",
   "nbconvert_exporter": "python",
   "pygments_lexer": "ipython3",
   "version": "3.13.6"
  }
 },
 "nbformat": 4,
 "nbformat_minor": 5
}
