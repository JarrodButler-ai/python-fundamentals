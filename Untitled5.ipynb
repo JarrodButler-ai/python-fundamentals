{
 "cells": [
  {
   "cell_type": "code",
   "execution_count": 1,
   "id": "8602a4f4-e1b0-420c-8ec3-90054360c768",
   "metadata": {},
   "outputs": [
    {
     "name": "stdout",
     "output_type": "stream",
     "text": [
      "Hello, Jarrod! Welcome to Day 3 of Python learning.\n"
     ]
    }
   ],
   "source": [
    "print(\"Hello, Jarrod! Welcome to Day 3 of Python learning.\")"
   ]
  },
  {
   "cell_type": "code",
   "execution_count": 2,
   "id": "765e0997-0c66-42c9-b80b-beba84a1abb5",
   "metadata": {},
   "outputs": [
    {
     "data": {
      "text/plain": [
       "12"
      ]
     },
     "execution_count": 2,
     "metadata": {},
     "output_type": "execute_result"
    }
   ],
   "source": [
    "5 + 7"
   ]
  },
  {
   "cell_type": "code",
   "execution_count": 3,
   "id": "371891eb-4734-41c0-a536-fbeb12e0dd8e",
   "metadata": {},
   "outputs": [
    {
     "data": {
      "text/plain": [
       "12"
      ]
     },
     "execution_count": 3,
     "metadata": {},
     "output_type": "execute_result"
    }
   ],
   "source": [
    "a = 5\n",
    "b = 7\n",
    "result = a + b\n",
    "result"
   ]
  },
  {
   "cell_type": "code",
   "execution_count": 4,
   "id": "4daa5ee5-c1f4-4624-bec3-37ca3a186786",
   "metadata": {},
   "outputs": [
    {
     "name": "stdout",
     "output_type": "stream",
     "text": [
      "The sum of 5 and 7 is 12.\n"
     ]
    }
   ],
   "source": [
    "a = 5\n",
    "b = 7\n",
    "result = a + b\n",
    "print(f\"The sum of {a} and {b} is {result}.\")"
   ]
  },
  {
   "cell_type": "code",
   "execution_count": 5,
   "id": "217b94ab-c95b-42b0-8001-9d2204143c37",
   "metadata": {},
   "outputs": [
    {
     "name": "stdout",
     "output_type": "stream",
     "text": [
      "20 - 4 = 16\n",
      "20 * 4 = 80\n",
      "20 / 4 = 5.0\n"
     ]
    }
   ],
   "source": [
    "x = 20\n",
    "y = 4\n",
    "\n",
    "print(f\"{x} - {y} = {x - y}\")\n",
    "print(f\"{x} * {y} = {x * y}\")\n",
    "print(f\"{x} / {y} = {x / y}\")"
   ]
  },
  {
   "cell_type": "code",
   "execution_count": 6,
   "id": "fd633c26-d5f1-4eaf-b4c1-f3d153722770",
   "metadata": {},
   "outputs": [
    {
     "name": "stdout",
     "output_type": "stream",
     "text": [
      "15 - 6 = 9\n",
      "15 * 6 = 90\n",
      "15 / 6 = 2.5\n"
     ]
    }
   ],
   "source": [
    "x = 15\n",
    "y = 6\n",
    "\n",
    "print(f\"{x} - {y} = {x - y}\")\n",
    "print(f\"{x} * {y} = {x * y}\")\n",
    "print(f\"{x} / {y} = {x / y}\")"
   ]
  },
  {
   "cell_type": "code",
   "execution_count": 7,
   "id": "4ab04562-a0e3-4afc-a0dc-aeebcea67ae0",
   "metadata": {},
   "outputs": [
    {
     "name": "stdout",
     "output_type": "stream",
     "text": [
      "7.5 + 2.3 = 9.8\n",
      "7.5 - 2.3 = 5.2\n",
      "7.5 * 2.3 = 17.25\n",
      "7.5 / 2.3 = 3.2608695652173916\n"
     ]
    }
   ],
   "source": [
    "a = 7.5\n",
    "b = 2.3\n",
    "\n",
    "print(f\"{a} + {b} = {a + b}\")\n",
    "print(f\"{a} - {b} = {a - b}\")\n",
    "print(f\"{a} * {b} = {a * b}\")\n",
    "print(f\"{a} / {b} = {a / b}\")"
   ]
  },
  {
   "cell_type": "code",
   "execution_count": 8,
   "id": "3370f7b6-7824-47b9-b9b6-4cde4185ab71",
   "metadata": {},
   "outputs": [],
   "source": [
    "x = 25\n",
    "y = 5"
   ]
  },
  {
   "cell_type": "code",
   "execution_count": 10,
   "id": "3ac3414f-fc17-424b-aa56-57daf6813e1c",
   "metadata": {},
   "outputs": [
    {
     "name": "stdout",
     "output_type": "stream",
     "text": [
      "25 + 5 = 30\n",
      "25 - 5 = 20\n",
      "25 * 5 = 125\n",
      "25 / 5 = 5.0\n"
     ]
    }
   ],
   "source": [
    "# Mini Calculator\n",
    "x = 25\n",
    "y = 5\n",
    "\n",
    "print(f\"{x} + {y} = {x + y}\")\n",
    "print(f\"{x} - {y} = {x - y}\")\n",
    "print(f\"{x} * {y} = {x * y}\")\n",
    "print(f\"{x} / {y} = {x / y}\")"
   ]
  },
  {
   "cell_type": "code",
   "execution_count": 11,
   "id": "ff9cd1f9-ef22-4806-8b8e-5cbeda5ce0ff",
   "metadata": {},
   "outputs": [
    {
     "name": "stdout",
     "output_type": "stream",
     "text": [
      "The square root of 16 is 4.0\n"
     ]
    }
   ],
   "source": [
    "import math  # gives us access to square root\n",
    "\n",
    "number = 16\n",
    "square_root = math.sqrt(number)\n",
    "\n",
    "print(f\"The square root of {number} is {square_root}\")"
   ]
  },
  {
   "cell_type": "code",
   "execution_count": null,
   "id": "f97aad00-1177-4ec3-91a3-83f48f106bf3",
   "metadata": {
    "scrolled": true
   },
   "outputs": [
    {
     "name": "stdout",
     "output_type": "stream",
     "text": [
      "Simple Calculator\n",
      "1. Add\n",
      "2. Subtract\n",
      "3. Multiply\n",
      "4. Divide\n",
      "5. Square Root\n"
     ]
    }
   ],
   "source": [
    "import math  # this gives us the sqrt function\n",
    "\n",
    "print(\"Simple Calculator\")\n",
    "print(\"1. Add\")\n",
    "print(\"2. Subtract\")\n",
    "print(\"3. Multiply\")\n",
    "print(\"4. Divide\")\n",
    "print(\"5. Square Root\")\n",
    "\n",
    "choice = input(\"Choose an option (1-5): \")\n",
    "\n",
    "if choice == \"1\":\n",
    "    num1 = float(input(\"Enter first number: \"))\n",
    "    num2 = float(input(\"Enter second number: \"))\n",
    "    print(\"Result:\", num1 + num2)\n",
    "\n",
    "elif choice == \"2\":\n",
    "    num1 = float(input(\"Enter first number: \"))\n",
    "    num2 = float(input(\"Enter second number: \"))\n",
    "    print(\"Result:\", num1 - num2)\n",
    "\n",
    "elif choice == \"3\":\n",
    "    num1 = float(input(\"Enter first number: \"))\n",
    "    num2 = float(input(\"Enter second number: \"))\n",
    "    print(\"Result:\", num1 * num2)\n",
    "\n",
    "elif choice == \"4\":\n",
    "    num1 = float(input(\"Enter first number: \"))\n",
    "    num2 = float(input(\"Enter second number: \"))\n",
    "    if num2 == 0:\n",
    "        print(\"Error: Cannot divide by zero.\")\n",
    "    else:\n",
    "        print(\"Result:\", num1 / num2)\n",
    "\n",
    "elif choice == \"5\":\n",
    "    num = float(input(\"Enter a number: \"))\n",
    "    print(\"Result:\", math.sqrt(num))\n",
    "\n",
    "else:\n",
    "    print(\"Invalid choice\")"
   ]
  },
  {
   "cell_type": "code",
   "execution_count": null,
   "id": "557ba361-e3d3-4c70-852d-20d00e6fdbb2",
   "metadata": {},
   "outputs": [],
   "source": [
    "import math  # gives us sqrt\n",
    "\n",
    "while True:  \n",
    "    print(\"\\nSimple Calculator\")\n",
    "    print(\"1. Add\")\n",
    "    print(\"2. Subtract\")\n",
    "    print(\"3. Multiply\")\n",
    "    print(\"4. Divide\")\n",
    "    print(\"5. Square Root\")\n",
    "    print(\"6. Quit\")\n",
    "\n",
    "    choice = input(\"Choose an option (1-6): \")\n",
    "\n",
    "    if choice == \"1\":\n",
    "        num1 = float(input(\"Enter first number: \"))\n",
    "        num2 = float(input(\"Enter second number: \"))\n",
    "        print(\"Result:\", num1 + num2)\n",
    "\n",
    "    elif choice == \"2\":\n",
    "        num1 = float(input(\"Enter first number: \"))\n",
    "        num2 = float(input(\"Enter second number: \"))\n",
    "        print(\"Result:\", num1 - num2)\n",
    "\n",
    "    elif choice == \"3\":\n",
    "        num1 = float(input(\"Enter first number: \"))\n",
    "        num2 = float(input(\"Enter second number: \"))\n",
    "        print(\"Result:\", num1 * num2)\n",
    "\n",
    "    elif choice == \"4\":\n",
    "        num1 = float(input(\"Enter first number: \"))\n",
    "        num2 = float(input(\"Enter second number: \"))\n",
    "        if num2 == 0:\n",
    "            print(\"Error: Cannot divide by zero.\")\n",
    "        else:\n",
    "            print(\"Result:\", num1 / num2)\n",
    "\n",
    "    elif choice == \"5\":\n",
    "        num = float(input(\"Enter a number: \"))\n",
    "        print(\"Result:\", math.sqrt(num))\n",
    "\n",
    "    elif choice == \"6\":\n",
    "        print(\"Goodbye!\")\n",
    "        break  # stops the loop and ends the program\n",
    "\n",
    "    else:\n",
    "        print(\"Invalid choice, try again.\")"
   ]
  },
  {
   "cell_type": "code",
   "execution_count": null,
   "id": "d07eb439-9d83-4fab-9564-b43a7ca04937",
   "metadata": {},
   "outputs": [],
   "source": [
    "import math  # gives us sqrt\n",
    "\n",
    "while True:  \n",
    "    print(\"\\nSimple Calculator\")\n",
    "    print(\"1. Add\")\n",
    "    print(\"2. Subtract\")\n",
    "    print(\"3. Multiply\")\n",
    "    print(\"4. Divide\")\n",
    "    print(\"5. Square Root\")\n",
    "    print(\"6. Quit\")\n",
    "\n",
    "    choice = input(\"Choose an option (1-6): \")\n",
    "\n",
    "    if choice == \"1\":\n",
    "        num1 = float(input(\"Enter first number: \"))\n",
    "        num2 = float(input(\"Enter second number: \"))\n",
    "        print(\"Result:\", num1 + num2)\n",
    "\n",
    "    elif choice == \"2\":\n",
    "        num1 = float(input(\"Enter first number: \"))\n",
    "        num2 = float(input(\"Enter second number: \"))\n",
    "        print(\"Result:\", num1 - num2)\n",
    "\n",
    "    elif choice == \"3\":\n",
    "        num1 = float(input(\"Enter first number: \"))\n",
    "        num2 = float(input(\"Enter second number: \"))\n",
    "        print(\"Result:\", num1 * num2)\n",
    "\n",
    "    elif choice == \"4\":\n",
    "        num1 = float(input(\"Enter first number: \"))\n",
    "        num2 = float(input(\"Enter second number: \"))\n",
    "        if num2 == 0:\n",
    "            print(\"Error: Cannot divide by zero.\")\n",
    "        else:\n",
    "            print(\"Result:\", num1 / num2)\n",
    "\n",
    "    elif choice == \"5\":\n",
    "        num = float(input(\"Enter a number: \"))\n",
    "        print(\"Result:\", math.sqrt(num))\n",
    "\n",
    "    elif choice == \"6\":\n",
    "        print(\"Goodbye!\")\n",
    "        break  # stops the loop and ends the program\n",
    "\n",
    "    else:\n",
    "        print(\"Invalid choice, try again.\")"
   ]
  },
  {
   "cell_type": "code",
   "execution_count": null,
   "id": "3b92619d-4d9d-4df0-ae17-aad62c38b2c6",
   "metadata": {},
   "outputs": [],
   "source": []
  }
 ],
 "metadata": {
  "kernelspec": {
   "display_name": "Python 3 (ipykernel)",
   "language": "python",
   "name": "python3"
  },
  "language_info": {
   "codemirror_mode": {
    "name": "ipython",
    "version": 3
   },
   "file_extension": ".py",
   "mimetype": "text/x-python",
   "name": "python",
   "nbconvert_exporter": "python",
   "pygments_lexer": "ipython3",
   "version": "3.13.6"
  }
 },
 "nbformat": 4,
 "nbformat_minor": 5
}
